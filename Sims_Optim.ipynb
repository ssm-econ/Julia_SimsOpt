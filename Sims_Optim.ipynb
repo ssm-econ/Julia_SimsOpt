{
 "cells": [
  {
   "cell_type": "code",
   "execution_count": 75,
   "id": "0749931c",
   "metadata": {},
   "outputs": [],
   "source": [
    "using LinearAlgebra;"
   ]
  },
  {
   "cell_type": "code",
   "execution_count": 288,
   "id": "8ff9467c",
   "metadata": {},
   "outputs": [
    {
     "data": {
      "text/plain": [
       "bfgsi (generic function with 1 method)"
      ]
     },
     "execution_count": 288,
     "metadata": {},
     "output_type": "execute_result"
    }
   ],
   "source": [
    "function csminwel(fcn, x0, H0, grad, crit, nit; kwargs...)\n",
    "    # Initialize variables\n",
    "    nx = length(x0)\n",
    "    x = copy(x0)\n",
    "    H = Matrix(H0)  # Ensure H is a dense matrix\n",
    "    NumGrad = isnothing(grad)\n",
    "    f = fcn(x; kwargs...)\n",
    "\n",
    "    if f > 1e50\n",
    "        error(\"Bad initial parameter.\")\n",
    "    end\n",
    "\n",
    "    # Compute initial gradient\n",
    "    g, badg = NumGrad ? numerical_gradient(fcn, x; kwargs...) : grad(x; kwargs...)\n",
    "\n",
    "    itct = 0\n",
    "    fcount = 0\n",
    "    done = false\n",
    "\n",
    "    while !done\n",
    "        println(\"-----------------\")\n",
    "        println(\"Iteration: $itct\")\n",
    "        println(\"Function value: $f\")\n",
    "        println(\"x: $x\")\n",
    "\n",
    "        itct += 1\n",
    "\n",
    "        f1, x1, fc, retcode1 = csminit(fcn, x, f, g, badg, H; kwargs...)\n",
    "        fcount += fc\n",
    "        print(\"$retcode1\\n\")\n",
    "        g1, badg1 = NumGrad ? numerical_gradient(fcn, x1; kwargs...) : grad(x1; kwargs...)\n",
    "\n",
    "\n",
    "        if retcode1 != 1\n",
    "\n",
    "            if retcode1 in [2, 4]\n",
    "                wall1 = true\n",
    "            else\n",
    "                wall1 = badg1\n",
    "            end\n",
    "\n",
    "            if wall1 && nx > 1\n",
    "                println(\"Cliff detected. Perturbing search direction.\")\n",
    "                H_cliff = H + Diagonal(rand(nx) .* diag(H))\n",
    "                f2, x2, fc, retcode2 = csminit(fcn, x, f, g, badg, H_cliff; kwargs...)\n",
    "                fcount += fc\n",
    "\n",
    "                if f2 < f\n",
    "                    g2, badg2 = NumGrad ? numerical_gradient(fcn, x2; kwargs...) : grad(x2; kwargs...)\n",
    "                    wall2 = badg2\n",
    "\n",
    "                    if wall2\n",
    "                        println(\"Cliff again. Traversing.\")\n",
    "                        if norm(x2 - x1) < 1e-13\n",
    "                            f3, x3, badg3, retcode3 = f, x, true, 101\n",
    "                        else\n",
    "                            g_cliff = ((f2 - f1) / (norm(x2 - x1)^2)) * (x2 - x1)\n",
    "                            f3, x3, fc, retcode3 = csminit(fcn, x, f, g_cliff, false, Matrix(I(nx, nx)); kwargs...)\n",
    "                            fcount += fc\n",
    "                            g3, badg3 = NumGrad ? numerical_gradient(fcn, x3; kwargs...) : grad(x3; kwargs...)\n",
    "                        end\n",
    "                    else\n",
    "                        f3, x3, badg3, retcode3 = f, x, true, 101\n",
    "                    end\n",
    "                else\n",
    "                    f3, x3, badg3, retcode3 = f, x, true, 101\n",
    "                end\n",
    "            else\n",
    "                f2, f3, badg2, badg3, retcode2, retcode3 = f, f, true, true, 101, 101\n",
    "            end\n",
    "        else\n",
    "            f2, f3, f1, retcode2, retcode3 = f, f, f, retcode1, retcode1\n",
    "        end\n",
    "\n",
    "        if !badg && !badg1 && abs(f1 - f) >= crit\n",
    "            H = bfgsi(H, g1 - g, x1 - x)\n",
    "        end\n",
    "\n",
    "        println(\"Improvement: $(f - f1)\")\n",
    "\n",
    "        if itct >= nit || abs(f - f1) < crit\n",
    "            done = true\n",
    "        end\n",
    "\n",
    "        f, x, g = f1, x1, g1\n",
    "    end\n",
    "\n",
    "    return f, x, g, H, itct, fcount, retcode1\n",
    "end\n",
    "\n",
    "function numerical_gradient(fcn, x; kwargs...)\n",
    "    eps = 1e-8\n",
    "    g = zeros(length(x))\n",
    "    for i in 1:length(x)\n",
    "        x_forward = copy(x)\n",
    "        x_backward = copy(x)\n",
    "        x_forward[i] += eps\n",
    "        x_backward[i] -= eps\n",
    "\n",
    "        g[i] = (fcn(x_forward; kwargs...) - fcn(x_backward; kwargs...)) / (2 * eps)\n",
    "    end\n",
    "    return g, false\n",
    "end\n",
    "\n",
    "function csminit(fcn, x0, f0, g0, badg, H0; kwargs...)\n",
    "    ANGLE = 0.005\n",
    "    THETA = 0.3\n",
    "    FCHANGE = 1000\n",
    "    MINLAMB = 1e-9\n",
    "    MINDFAC = 0.01\n",
    "\n",
    "    fcount = 0\n",
    "    lambda = 1.0\n",
    "    xhat = x0\n",
    "    fhat = f0\n",
    "    g = g0\n",
    "    gnorm = norm(g)\n",
    "\n",
    "    if gnorm < 1e-12 && !badg\n",
    "        return fhat, xhat, fcount, 1\n",
    "    end\n",
    "\n",
    "    dx = -H0 * g\n",
    "    dxnorm = norm(dx)\n",
    "    if dxnorm > 1e12\n",
    "        dx *= FCHANGE / dxnorm\n",
    "    end\n",
    "\n",
    "    dfhat = dot(dx, g0)\n",
    "    if !badg\n",
    "        a = -dfhat / (gnorm * dxnorm)\n",
    "        if a < ANGLE\n",
    "            dx -= (ANGLE * dxnorm / gnorm + dfhat / (gnorm^2)) * g\n",
    "            dx *= dxnorm / norm(dx)\n",
    "            dfhat = dot(dx, g)\n",
    "        end\n",
    "    end\n",
    "\n",
    "    done = false\n",
    "    factor = 3.0\n",
    "    shrink = true\n",
    "    lambda_min = 0.0\n",
    "    lambda_max = Inf\n",
    "    lambda_peak = 0.0\n",
    "    f_peak = f0\n",
    "    lambdahat = 0.0\n",
    "\n",
    "    while !done\n",
    "        dxtest = x0 + lambda * dx\n",
    "        f = fcn(dxtest; kwargs...)\n",
    "        fcount += 1\n",
    "\n",
    "        if f < fhat\n",
    "            fhat = f\n",
    "            xhat = dxtest\n",
    "            lambdahat = lambda\n",
    "        end\n",
    "\n",
    "        shrink_signal = (!badg && (f0 - f < max(-THETA * dfhat * lambda, 0))) || (badg && (f0 - f) < 0)\n",
    "        grow_signal = !badg && (lambda > 0 && (f0 - f > -(1 - THETA) * dfhat * lambda))\n",
    "\n",
    "        if shrink_signal && (lambda > lambda_peak || lambda < 0)\n",
    "            if lambda > 0 && (!shrink || lambda / factor <= lambda_peak)\n",
    "                shrink = true\n",
    "                factor = factor^0.6\n",
    "                while lambda / factor <= lambda_peak\n",
    "                    factor = factor^0.6\n",
    "                end\n",
    "\n",
    "                if abs(factor - 1) < MINDFAC\n",
    "                    return fhat, xhat, fcount, if abs(lambda) < 4.0 2 else 7 end\n",
    "                end\n",
    "            end\n",
    "            lambda = lambda / factor\n",
    "            if abs(lambda) < MINLAMB\n",
    "                if lambda > 0 && f0 <= fhat\n",
    "                    lambda = -lambda * factor^6\n",
    "                else\n",
    "                    return fhat, xhat, fcount, if lambda < 0 6 else 3 end\n",
    "                end\n",
    "            end\n",
    "        elseif grow_signal && lambda > 0 || (shrink_signal && (lambda <= lambda_peak && lambda > 0))\n",
    "            if shrink\n",
    "                shrink = false\n",
    "                factor = factor^0.6\n",
    "                if abs(factor - 1) < MINDFAC\n",
    "                    return fhat, xhat, fcount, if abs(lambda) < 4.0 4 else 7 end\n",
    "                end\n",
    "            end\n",
    "            if f < f_peak && lambda > 0\n",
    "                f_peak = f\n",
    "                lambda_peak = lambda\n",
    "                if lambda_max <= lambda_peak\n",
    "                    lambda_max = lambda_peak * factor^2\n",
    "                end\n",
    "            end\n",
    "            lambda = lambda * factor\n",
    "            if abs(lambda) > 1e20\n",
    "                return fhat, xhat, fcount, 5\n",
    "            end\n",
    "        else\n",
    "            done = true\n",
    "            return fhat, xhat, fcount, if factor < 1.2 7 else 0 end\n",
    "        end\n",
    "    end\n",
    "\n",
    "    return fhat, xhat, fcount, 0\n",
    "end\n",
    "\n",
    "function bfgsi(H, delta_g, delta_x)\n",
    "    rho = 1.0 / (dot(delta_g, delta_x))\n",
    "    V = I(length(delta_x)) - rho * (delta_x * delta_g')\n",
    "    return V * H * V' + rho * (delta_x * delta_x')\n",
    "end\n"
   ]
  },
  {
   "cell_type": "code",
   "execution_count": 357,
   "id": "bc9c6a74",
   "metadata": {},
   "outputs": [
    {
     "data": {
      "text/plain": [
       "step_fn (generic function with 1 method)"
      ]
     },
     "execution_count": 357,
     "metadata": {},
     "output_type": "execute_result"
    }
   ],
   "source": [
    "step_fn(x,c)=x>c ? x : Inf"
   ]
  },
  {
   "cell_type": "code",
   "execution_count": 315,
   "id": "4f379233",
   "metadata": {},
   "outputs": [
    {
     "data": {
      "text/plain": [
       "frac (generic function with 1 method)"
      ]
     },
     "execution_count": 315,
     "metadata": {},
     "output_type": "execute_result"
    }
   ],
   "source": [
    "frac(x)=x-floor(x)"
   ]
  },
  {
   "cell_type": "code",
   "execution_count": 394,
   "id": "2c415eba",
   "metadata": {
    "scrolled": false
   },
   "outputs": [
    {
     "name": "stdout",
     "output_type": "stream",
     "text": [
      "-----------------\n",
      "Iteration: 0\n",
      "Function value: 91.7699999999998\n",
      "x: [50.8, 0.3]\n",
      "2\n",
      "Cliff detected. Perturbing search direction.\n",
      "Improvement: 41.48401736533127\n",
      "-----------------\n",
      "Iteration: 1\n",
      "Function value: 50.28598263466853\n",
      "x: [50.004059391244084, 0.2789352883661515]\n",
      "2\n",
      "Cliff detected. Perturbing search direction.\n",
      "Improvement: 0.20579427774757164\n",
      "-----------------\n",
      "Iteration: 2\n",
      "Function value: 50.08018835692096\n",
      "x: [50.000017847609655, 0.28155479649636483]\n",
      "4\n",
      "Cliff detected. Perturbing search direction.\n",
      "Improvement: 0.0009080040435165415\n",
      "-----------------\n",
      "Iteration: 3\n",
      "Function value: 50.07928035287744\n",
      "x: [50.00000005323721, 0.28156282210216843]\n",
      "6\n",
      "Improvement: 0.0\n"
     ]
    },
    {
     "data": {
      "text/plain": [
       "(50.07928035287744, [50.00000005323721, 0.28156282210216843], [51.281551094461975, 0.5631136446027085], [0.7663736756140707 -0.7501425746656414; -0.7501425746656414 1.1473152732912437], 4, 146, 0)"
      ]
     },
     "execution_count": 394,
     "metadata": {},
     "output_type": "execute_result"
    }
   ],
   "source": [
    "fcn=x->x[1]^2+(x[2]-floor(x[1]))*(x[1]+x[2])+step_fn(x[1],50.0) #Function with discontinuities and nonlinearities\n",
    "x0=[50.8,0.3];\n",
    "H0=I(2);\n",
    "fval=fcn(x0);\n",
    "\n",
    "fmin, x_min, gmin, Hmin, itct, fcount, retcode1=csminwel(fcn, x0, H0, nothing, 1e-9, 100)\n",
    "\n"
   ]
  },
  {
   "cell_type": "code",
   "execution_count": 371,
   "id": "132ae286",
   "metadata": {},
   "outputs": [
    {
     "data": {
      "text/plain": [
       "(50.07928035287744, [50.00000005323721, 0.28156282210216843])"
      ]
     },
     "execution_count": 371,
     "metadata": {},
     "output_type": "execute_result"
    }
   ],
   "source": [
    "fmin, x_min"
   ]
  },
  {
   "cell_type": "code",
   "execution_count": 395,
   "id": "38b0e037",
   "metadata": {
    "scrolled": true
   },
   "outputs": [
    {
     "data": {
      "text/plain": [
       "2-element Vector{Float64}:\n",
       " 57.000000000615174\n",
       "  0.0001256793006087301"
      ]
     },
     "execution_count": 395,
     "metadata": {},
     "output_type": "execute_result"
    }
   ],
   "source": [
    "res=Optim.optimize(fcn,x0)\n",
    "\n",
    "Optim.minimizer(res)"
   ]
  },
  {
   "cell_type": "code",
   "execution_count": 381,
   "id": "349a52e7",
   "metadata": {
    "scrolled": false
   },
   "outputs": [
    {
     "name": "stdout",
     "output_type": "stream",
     "text": [
      "-----------------\n",
      "Iteration: 0\n",
      "Function value: 5.16310103858e7\n",
      "x: [-100.8, 0.1]\n",
      "0\n",
      "Improvement: 5.163088295946416e7\n",
      "-----------------\n",
      "Iteration: 1\n",
      "Function value: 127.426335832148\n",
      "x: [3.2790995610097724, 0.6161996016880061]\n",
      "0\n",
      "Improvement: 50.252969046240025\n",
      "-----------------\n",
      "Iteration: 2\n",
      "Function value: 77.17336678590797\n",
      "x: [3.225187135459662, 10.995171722342741]\n",
      "0\n",
      "Improvement: 0.24683342533235475\n",
      "-----------------\n",
      "Iteration: 3\n",
      "Function value: 76.92653336057562\n",
      "x: [3.229441302852498, 10.341729716224595]\n",
      "0\n",
      "Improvement: 0.24310861391994365\n",
      "-----------------\n",
      "Iteration: 4\n",
      "Function value: 76.68342474665567\n",
      "x: [3.256419490797263, 9.921296999133167]\n",
      "0\n",
      "Improvement: 5.513527863525923\n",
      "-----------------\n",
      "Iteration: 5\n",
      "Function value: 71.16989688312975\n",
      "x: [4.126773467438723, 12.744888590784187]\n",
      "0\n",
      "Improvement: 19.02440425892484\n",
      "-----------------\n",
      "Iteration: 6\n",
      "Function value: 52.14549262420491\n",
      "x: [4.811321537444132, 24.116693633815434]\n",
      "0\n",
      "Improvement: 12.691668679596468\n",
      "-----------------\n",
      "Iteration: 7\n",
      "Function value: 39.453823944608445\n",
      "x: [6.873351233448441, 42.11045362374077]\n",
      "0\n",
      "Improvement: 6.228222620795087\n",
      "-----------------\n",
      "Iteration: 8\n",
      "Function value: 33.22560132381336\n",
      "x: [6.239832033222524, 38.63197021877706]\n",
      "0\n",
      "Improvement: 10.990915927318895\n",
      "-----------------\n",
      "Iteration: 9\n",
      "Function value: 22.234685396494463\n",
      "x: [7.581412803606404, 55.149398923572505]\n",
      "0\n",
      "Improvement: 4.826340333487899\n",
      "-----------------\n",
      "Iteration: 10\n",
      "Function value: 17.408345063006564\n",
      "x: [8.424010891601279, 67.92400984446398]\n",
      "0\n",
      "Improvement: 8.975460550133066\n",
      "-----------------\n",
      "Iteration: 11\n",
      "Function value: 8.432884512873498\n",
      "x: [9.114897402522983, 82.6143053786688]\n",
      "0\n",
      "Improvement: 2.1731644266577472\n",
      "-----------------\n",
      "Iteration: 12\n",
      "Function value: 6.259720086215751\n",
      "x: [10.32539333933652, 103.98490276369193]\n",
      "0\n",
      "Improvement: 2.876899129146244\n",
      "-----------------\n",
      "Iteration: 13\n",
      "Function value: 3.382820957069507\n",
      "x: [10.178166945030286, 103.23802416708091]\n",
      "0\n",
      "Improvement: 2.4967207366175423\n",
      "-----------------\n",
      "Iteration: 14\n",
      "Function value: 0.8861002204519646\n",
      "x: [11.189428255506865, 124.52643886758909]\n",
      "0\n",
      "Improvement: 0.7963723816242383\n",
      "-----------------\n",
      "Iteration: 15\n",
      "Function value: 0.08972783882772623\n",
      "x: [11.789805301695733, 138.6976944477647]\n",
      "0\n",
      "Improvement: 0.042477594539842393\n",
      "-----------------\n",
      "Iteration: 16\n",
      "Function value: 0.04725024428788383\n",
      "x: [11.795519837290263, 139.0299991399945]\n",
      "0\n",
      "Improvement: 0.04564942965085823\n",
      "-----------------\n",
      "Iteration: 17\n",
      "Function value: 0.0016008146370256073\n",
      "x: [11.96614455426698, 143.15846177307193]\n",
      "0\n",
      "Improvement: 0.001566683649397334\n",
      "-----------------\n",
      "Iteration: 18\n",
      "Function value: 3.4130987628273265e-5\n",
      "x: [11.995254675034671, 143.88131540807717]\n",
      "0\n",
      "Improvement: 3.409123140867799e-5\n",
      "-----------------\n",
      "Iteration: 19\n",
      "Function value: 3.9756219595278796e-8\n",
      "x: [11.99980312255449, 143.99523035964614]\n",
      "0\n",
      "Improvement: 3.941069385039258e-8\n",
      "-----------------\n",
      "Iteration: 20\n",
      "Function value: 3.455257448862162e-10\n",
      "x: [12.000010341285169, 144.00022634679544]\n",
      "0\n",
      "Improvement: 3.4001280502405274e-10\n"
     ]
    },
    {
     "data": {
      "text/plain": [
       "(5.51293986216348e-12, [11.999999816461864, 143.9999989054484], [-7.981580951315583e-5, 3.310366235954088e-6], [0.5004176271211012 12.002018479356085; 12.002018479356083 289.00029362068767], 21, 49, 0)"
      ]
     },
     "execution_count": 381,
     "metadata": {},
     "output_type": "execute_result"
    }
   ],
   "source": [
    "rosenbrock=x->(12.0-x[1])^2+0.5*((x[2]-x[1]^2)^2) #Rosenbruck function (easy for the algorithm to handle)\n",
    "x0=[-100.8,0.1];\n",
    "H0=I(2);\n",
    "fval=rosenbrock(x0);\n",
    "\n",
    "fmin, x_min, gmin, Hmin, itct, fcount, retcode1=csminwel(rosenbrock, x0, H0, nothing, 1e-9, 100)\n",
    "\n"
   ]
  },
  {
   "cell_type": "code",
   "execution_count": 333,
   "id": "136872ab",
   "metadata": {},
   "outputs": [
    {
     "data": {
      "text/plain": [
       "(5.51293986216348e-12, [11.999999816461864, 143.9999989054484])"
      ]
     },
     "execution_count": 333,
     "metadata": {},
     "output_type": "execute_result"
    }
   ],
   "source": [
    "fmin,x_min"
   ]
  },
  {
   "cell_type": "code",
   "execution_count": 335,
   "id": "a1855c59",
   "metadata": {},
   "outputs": [
    {
     "data": {
      "text/plain": [
       " * Status: success\n",
       "\n",
       " * Candidate solution\n",
       "    Final objective value:     6.109127e-10\n",
       "\n",
       " * Found with\n",
       "    Algorithm:     Nelder-Mead\n",
       "\n",
       " * Convergence measures\n",
       "    √(Σ(yᵢ-ȳ)²)/n ≤ 1.0e-08\n",
       "\n",
       " * Work counters\n",
       "    Seconds run:   0  (vs limit Inf)\n",
       "    Iterations:    87\n",
       "    f(x) calls:    166\n"
      ]
     },
     "execution_count": 335,
     "metadata": {},
     "output_type": "execute_result"
    }
   ],
   "source": [
    "res=Optim.optimize(rosenbrock,x0)\n",
    "\n",
    "Optim.minimizer(res)"
   ]
  },
  {
   "cell_type": "code",
   "execution_count": 406,
   "id": "f776a041",
   "metadata": {},
   "outputs": [
    {
     "name": "stdout",
     "output_type": "stream",
     "text": [
      "-----------------\n",
      "Iteration: 0\n",
      "Function value: 1.034584606728118\n",
      "x: [-0.0, 0.0, 0.0]\n",
      "0\n",
      "Improvement: 0.0794692677641139\n",
      "-----------------\n",
      "Iteration: 1\n",
      "Function value: 0.955115338964004\n",
      "x: [-0.19479069838605292, 0.0, 0.013794461869072922]\n",
      "7\n",
      "Improvement: 0.50845580293049\n",
      "-----------------\n",
      "Iteration: 2\n",
      "Function value: 0.4466595360335141\n",
      "x: [-0.9779186892293125, 0.014853134003599958, 0.9155964499776079]\n",
      "0\n",
      "Improvement: 0.044571621883696455\n",
      "-----------------\n",
      "Iteration: 3\n",
      "Function value: 0.40208791414981765\n",
      "x: [-0.9799558263778712, 0.08003193442343741, 0.8240937840939946]\n",
      "0\n",
      "Improvement: 0.40182007877984727\n",
      "-----------------\n",
      "Iteration: 4\n",
      "Function value: 0.00026783536997035607\n",
      "x: [-2.405105347951616, 1.5324146160020762, 0.8875760531619947]\n",
      "0\n",
      "Improvement: 0.00017533632519917797\n",
      "-----------------\n",
      "Iteration: 5\n",
      "Function value: 9.249904477117811e-5\n",
      "x: [-2.483639166162837, 1.6282553904800885, 0.8904888522474387]\n",
      "0\n",
      "Improvement: 7.179075860676224e-5\n",
      "-----------------\n",
      "Iteration: 6\n",
      "Function value: 2.070828616441587e-5\n",
      "x: [-2.580315594733019, 1.7462859303482334, 0.8941072688538308]\n",
      "0\n",
      "Improvement: 1.4126284898910842e-5\n",
      "-----------------\n",
      "Iteration: 7\n",
      "Function value: 6.582001265505027e-6\n",
      "x: [-2.645765222599054, 1.8262042433485204, 0.8965654099157631]\n",
      "0\n",
      "Improvement: 4.839027120280524e-6\n",
      "-----------------\n",
      "Iteration: 8\n",
      "Function value: 1.7429741452245031e-6\n",
      "x: [-2.714258574189023, 1.9098422008600398, 0.8991401321357398]\n",
      "0\n",
      "Improvement: 1.205003833808359e-6\n",
      "-----------------\n",
      "Iteration: 9\n",
      "Function value: 5.379703114161441e-7\n",
      "x: [-2.769400727137348, 1.9771776879019374, 0.9012136029647443]\n",
      "0\n",
      "Improvement: 3.836543660499329e-7\n",
      "-----------------\n",
      "Iteration: 10\n",
      "Function value: 1.543159453662112e-7\n",
      "x: [-2.8232936067345737, 2.042987879873589, 0.9032402771083745]\n",
      "0\n",
      "Improvement: 1.0689672166931153e-7\n",
      "-----------------\n",
      "Iteration: 11\n",
      "Function value: 4.741922369689968e-8\n",
      "x: [-2.870430637913378, 2.100548368398292, 0.9050129453603946]\n",
      "0\n",
      "Improvement: 3.32383291287779e-8\n",
      "-----------------\n",
      "Iteration: 12\n",
      "Function value: 1.4180894568121779e-8\n",
      "x: [-2.91537032621982, 2.1554256315640576, 0.9067029940057536]\n",
      "0\n",
      "Improvement: 9.800834080159131e-9\n",
      "-----------------\n",
      "Iteration: 13\n",
      "Function value: 4.380060487962647e-9\n",
      "x: [-2.956322895826261, 2.205434104263688, 0.9082431034456797]\n",
      "0\n",
      "Improvement: 3.038411478063206e-9\n",
      "-----------------\n",
      "Iteration: 14\n",
      "Function value: 1.3416490098994415e-9\n",
      "x: [-2.9951200316876463, 2.252810510469644, 0.9097021545237756]\n",
      "0\n",
      "Improvement: 9.239548373130204e-10\n"
     ]
    },
    {
     "data": {
      "text/plain": [
       "(4.1769417258642105e-10, [-3.0312472005964066, 2.296926536282813, 0.9110607960718854], [2.898908277715629e-9, -8.460958322703875e-9, -1.697027026876624e-8], [443422.1488515844 -541475.4338211523 -16675.74374964535; -541475.4338211523 661213.2126834795 20363.27159728642; -16675.743749645353 20363.27159728642 627.201722737248], 15, 39, 0)"
      ]
     },
     "execution_count": 406,
     "metadata": {},
     "output_type": "execute_result"
    }
   ],
   "source": [
    "g=x->exp(abs(x[3]-.85)*(x[1]-.2)^2+x[1]*exp(x[2]*x[3]-.1))\n",
    "\n",
    "x0=[-0.0,0.0,0.0];\n",
    "H0=I(3);\n",
    "fval=g(x0);\n",
    "\n",
    "fmin, x_min, gmin, Hmin, itct, fcount, retcode1=csminwel(g, x0, H0, nothing, 1e-9, 100)\n",
    "\n",
    "\n"
   ]
  },
  {
   "cell_type": "code",
   "execution_count": 407,
   "id": "2b930e10",
   "metadata": {},
   "outputs": [
    {
     "data": {
      "text/plain": [
       "3-element Vector{Float64}:\n",
       " -0.0\n",
       "  0.0\n",
       "  0.0"
      ]
     },
     "execution_count": 407,
     "metadata": {},
     "output_type": "execute_result"
    }
   ],
   "source": [
    "res=Optim.optimize(fcn,x0)\n",
    "\n",
    "Optim.minimizer(res)"
   ]
  },
  {
   "cell_type": "code",
   "execution_count": 401,
   "id": "19d69565",
   "metadata": {},
   "outputs": [
    {
     "data": {
      "text/plain": [
       "(4.1769417258642105e-10, [-3.0312472005964066, 2.296926536282813, 0.9110607960718854])"
      ]
     },
     "execution_count": 401,
     "metadata": {},
     "output_type": "execute_result"
    }
   ],
   "source": [
    "fmin,x_min"
   ]
  },
  {
   "cell_type": "code",
   "execution_count": null,
   "id": "37a90626",
   "metadata": {},
   "outputs": [],
   "source": []
  }
 ],
 "metadata": {
  "kernelspec": {
   "display_name": "Julia 1.10.4",
   "language": "julia",
   "name": "julia-1.10"
  },
  "language_info": {
   "file_extension": ".jl",
   "mimetype": "application/julia",
   "name": "julia",
   "version": "1.10.4"
  }
 },
 "nbformat": 4,
 "nbformat_minor": 5
}
